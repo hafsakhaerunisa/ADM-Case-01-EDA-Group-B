{
  "cells": [
    {
      "cell_type": "markdown",
      "metadata": {
        "id": "view-in-github",
        "colab_type": "text"
      },
      "source": [
        "<a href=\"https://colab.research.google.com/github/hafsakhaerunisa/ADM-Case-01-EDA-Group-B/blob/main/Copy_of_ADM_Case_01_EDA_Group_B.ipynb\" target=\"_parent\"><img src=\"https://colab.research.google.com/assets/colab-badge.svg\" alt=\"Open In Colab\"/></a>"
      ]
    },
    {
      "cell_type": "markdown",
      "id": "a6835ef2",
      "metadata": {
        "id": "a6835ef2"
      },
      "source": [
        "<center><h2><strong><font color=\"blue\">Study Case 01 - Data Mining dan Business Intelligence: EDA pada data property</font></strong></h2></center>\n",
        "\n",
        "<img alt=\"\" src=\"https://github.com/taufiksutanto/ADM-Case-01-EDA/blob/main/images/Ray-pink-Property-Case-Banner.jpg?raw=1\"/>"
      ]
    },
    {
      "cell_type": "markdown",
      "id": "8cbd8d70",
      "metadata": {
        "id": "8cbd8d70"
      },
      "source": [
        "# Kasus:\n",
        "\n",
        "* Anda adalah seorang Data Analyst yang bekerja di PT **Ray Pink Property Indonesia** (RPPI).\n",
        "* RPPI adalah perusahaan property yang berdiri sejak 11 tahun yang lalu.\n",
        "* RPPI memliki kantor cabang di 7 propinsi di Indonesia dan jumlahnya terus bertambah.\n",
        "* Valuasi RPPI tahun ini mencapai Rp 7 Trilyun, meningkat 7% dari tahun sebelumnya.\n",
        "* Bidang usaha RPPI adalah investasi dan jual-beli property secara umum, termasuk bekerja sama dengan developer perumahan.\n",
        "* Data Engineer (DE)/Database Administrator (DBA) RPPI berhasil mengumpulkan data rumah-rumah yang dijual di beberapa kota di Indonesia.\n",
        "* Sebagai Data Analyst anda akan hadir dan melakukan presentasi pada rapat direksi untuk memberikan insight dari data ke upper management (C-Level, senior managers, dan komisaris perusahaan).\n",
        "* Di studi kasus ini anda mempersiapkan \"bahan presentasi\" dengan cara melakukan EDA pada data yang diterima dari DE/DBA."
      ]
    },
    {
      "cell_type": "markdown",
      "id": "0c3cb380",
      "metadata": {
        "id": "0c3cb380"
      },
      "source": [
        "## Petunjuk:\n",
        "\n",
        "Di studi kasus pertama, anda mendapat bantuan keterangan dari manajemen. Setelah berdiskusi *over lunch* dengan beberapa manager senior, anda mendengar bahwa mereka ingin mengetahui:\n",
        "\n",
        "1. Kualitas data yang dimiliki perusahaan.\n",
        "2. Apakah ada saran perbaikan data ke DE/DBA perusahaan agar RPPI menjadi *data driven company* yang unggul.\n",
        "3. Dari data yang ada, apakah ada kecenderungan rumah disuatu kota lebih mahal/murah dibandingkan kota lain?\n",
        "4. Dari data yang ada, apakah bisa dibuat rekomendasi sebaiknya RPPI membuat kantor cabang berikutnya di kota mana? Mengapa? (Asumsikan RPPI belum memiliki cabang di kota-kota yang disebutkan di data).\n",
        "5. Rumah dengan karakteristik seperti apa yang paling banyak dijual?\n",
        "6. Jika RPPI ingin melakukan investasi (max) Rp. 25 Milyar minggu besok, apakah dari data anda dapat memberikan rekomendasi rumah mana saja yang akan berpotensi menghasilkan keuntungan bagi perusahaan?\n",
        "7. Dan yang terpenting, informasi berharga apa lagi yang bisa anda dapatkan dari data?"
      ]
    },
    {
      "cell_type": "markdown",
      "id": "691c8ffc",
      "metadata": {
        "id": "691c8ffc"
      },
      "source": [
        "## Catatan:\n",
        "\n",
        "* Anda diperbolehkan melakukan augmentasi data (menambah data eksternal).\n",
        "* Yakinkan menuliskan asumsi anda atas kesimpulan dan rekomendasi yang diberikan ke perusahaan.\n",
        "* Yakinkan kesimpulan dan rekomendasi ditujukan ke perusahaan (bukan dosen mata kuliah).\n",
        "* Anda boleh menggunakan software visualisasi apapun, misal excel, Ms Word, Photoshop, dsb.\n",
        "* Yakinkan file images dapat dibuka (nampak) saat ipynb di Jupyter notebook anda dibuka di Google Colab.\n",
        " - Tips: hati-hati dalam melakukan penamaan file, Google colab case sensitive.\n",
        "* Interpretasi diberikan menggunakan cell markdown tepat dibawah output code yang relevan diatasnya.\n",
        "* Anda tidak diperkenankan bertanya pertanyaan yang:\n",
        " - Merupakan jawaban atau menjurus ke jawaban studi kasus.\n",
        " - Debugging - code error (anda diharapkan melakukan code troubleshooting sendiri via mesin pencari)\n",
        "* Pada studi kasus ini anda hanya diperkenankan untuk melakukan EDA (bukan modeling seperti prediksi/forecasting)"
      ]
    },
    {
      "cell_type": "markdown",
      "id": "848a2096",
      "metadata": {
        "id": "848a2096"
      },
      "source": [
        "## Komponen Penilaian:\n",
        "\n",
        "* Code tidak diubah sejak deadline studi kasus.\n",
        "* Code dapat di \"Run-All\" di Google Colab oleh dosen tanpa error.\n",
        "* Pemilihan preprocessing dan visualisasi yang tepat\n",
        "* Interpretasi dan rekomendasi dengan narasi dan kualitas yang baik, serta berdasarkan atas (pengolahan) data.\n",
        "* Kreativitas dan inovasi pengolahan data dan penyajian visualisasi."
      ]
    },
    {
      "cell_type": "markdown",
      "id": "e5a333c7",
      "metadata": {
        "id": "e5a333c7"
      },
      "source": [
        "# Data Understanding"
      ]
    },
    {
      "cell_type": "code",
      "execution_count": null,
      "id": "ddd7f934",
      "metadata": {
        "id": "ddd7f934"
      },
      "outputs": [],
      "source": [
        "# Loading Data\n",
        "\n",
        "import pandas as pd\n",
        "import numpy as np\n",
        "import matplotlib.pyplot as plt\n",
        "import seaborn as sns"
      ]
    },
    {
      "cell_type": "code",
      "source": [
        "df_depok = pd.read_csv('https://raw.githubusercontent.com/taufiksutanto/ADM-Case-01-EDA/master/data/depok.csv',low_memory = False, encoding='utf8')\n",
        "df_bogor = pd.read_csv('https://raw.githubusercontent.com/taufiksutanto/ADM-Case-01-EDA/master/data/bogor.csv',low_memory = False, encoding='utf8')\n",
        "df_tangerang = pd.read_csv('https://raw.githubusercontent.com/taufiksutanto/ADM-Case-01-EDA/master/data/tangerang.csv',low_memory = False, encoding='utf8')\n",
        "df_bekasi = pd.read_csv('https://raw.githubusercontent.com/taufiksutanto/ADM-Case-01-EDA/master/data/bekasi.csv',low_memory = False, encoding='utf8')"
      ],
      "metadata": {
        "id": "shGK0oYD_HAI"
      },
      "id": "shGK0oYD_HAI",
      "execution_count": null,
      "outputs": []
    },
    {
      "cell_type": "markdown",
      "source": [
        "Sebelum melakukan analisis lanjutan, dilakukan drop kolom `Unnamed: 14`, `Unnamed: 15`, `Unnamed: 16`, `Unnamed: 17`, `Unnamed: 18`, `Unnamed: 19`, `Unnamed: 20`, `Unnamed: 21`, `Unnamed: 22`, `Unnamed: 23`, `Unnamed: 24`, `Unnamed: 25` karena kolom tersebut pada semua data tidak memiliki values sehingga tidak ada hal yang dapat disimpulkan dari kolom tersebut."
      ],
      "metadata": {
        "id": "ISpRi3rAHUyM"
      },
      "id": "ISpRi3rAHUyM"
    },
    {
      "cell_type": "code",
      "source": [
        "# Drop colomnd as mentioned above\n",
        "\n",
        "df_bogor = df_bogor[['created_at', 'LT', 'LB', 'KT', 'KM', 'garasi', 'carport', 'lokasi','sertifikat', 'listrik', 'hadap', 'harga', 'URL', 'deskripsi']]\n",
        "df_depok = df_depok[['created_at', 'LT', 'LB', 'KT', 'KM', 'garasi', 'carport', 'lokasi','sertifikat', 'listrik', 'hadap', 'harga', 'URL', 'deskripsi']]\n",
        "df_tangerang = df_tangerang[['created_at', 'LT', 'LB', 'KT', 'KM', 'garasi', 'carport', 'lokasi','sertifikat', 'listrik', 'hadap', 'harga', 'URL', 'deskripsi']]\n",
        "df_bekasi = df_bekasi[['created_at', 'LT', 'LB', 'KT', 'KM', 'garasi', 'carport', 'lokasi','sertifikat', 'listrik', 'hadap', 'harga', 'URL', 'deskripsi']]"
      ],
      "metadata": {
        "id": "j69sg9kQEL55"
      },
      "id": "j69sg9kQEL55",
      "execution_count": null,
      "outputs": []
    },
    {
      "cell_type": "markdown",
      "source": [
        "Selanjutnya akan dilakukan penggabungan dari database rumah-rumah di Jakarta, Depok, Bogor, Tangerang, dan Bekasi ke dalam satu database."
      ],
      "metadata": {
        "id": "GnjM7CwQNjXp"
      },
      "id": "GnjM7CwQNjXp"
    },
    {
      "cell_type": "code",
      "source": [
        "# Create new kolom `Kota` to identify the source from each database\n",
        "\n",
        "df_bogor['Kota'] = ['Bogor' for i in range(df_bogor.shape[0])]\n",
        "df_bekasi['Kota'] = ['Bekasi' for i in range(df_bekasi.shape[0])]\n",
        "df_depok['Kota'] = ['Depok' for i in range(df_depok.shape[0])]\n",
        "df_tangerang['Kota'] = ['Depok' for i in range(df_tangerang.shape[0])]"
      ],
      "metadata": {
        "id": "lsxb4qvVESzg"
      },
      "id": "lsxb4qvVESzg",
      "execution_count": null,
      "outputs": []
    },
    {
      "cell_type": "code",
      "source": [
        "df_full = pd.concat([df_bogor,df_bekasi,df_depok,df_tangerang], axis = 0, ignore_index = True)"
      ],
      "metadata": {
        "id": "ZhwOeeyRGUyn"
      },
      "id": "ZhwOeeyRGUyn",
      "execution_count": null,
      "outputs": []
    },
    {
      "cell_type": "code",
      "source": [
        "df_full_non_null = df_full.dropna(subset  = ['LT','LB','KT','KM','harga'])"
      ],
      "metadata": {
        "id": "n_6LYLcXL2yB"
      },
      "id": "n_6LYLcXL2yB",
      "execution_count": null,
      "outputs": []
    },
    {
      "cell_type": "code",
      "source": [
        "df_full_non_null.drop(columns = 'hadap', inplace = True)"
      ],
      "metadata": {
        "id": "3pxbv705L8wm",
        "outputId": "94766b77-8870-41e7-aa94-5b97cdd06a62",
        "colab": {
          "base_uri": "https://localhost:8080/"
        }
      },
      "id": "3pxbv705L8wm",
      "execution_count": null,
      "outputs": [
        {
          "output_type": "stream",
          "name": "stderr",
          "text": [
            "/usr/local/lib/python3.7/dist-packages/pandas/core/frame.py:4913: SettingWithCopyWarning: \n",
            "A value is trying to be set on a copy of a slice from a DataFrame\n",
            "\n",
            "See the caveats in the documentation: https://pandas.pydata.org/pandas-docs/stable/user_guide/indexing.html#returning-a-view-versus-a-copy\n",
            "  errors=errors,\n"
          ]
        }
      ]
    },
    {
      "cell_type": "code",
      "source": [
        "print(df_full_non_null.info())"
      ],
      "metadata": {
        "colab": {
          "base_uri": "https://localhost:8080/"
        },
        "id": "Vn0ey2HfPa0Y",
        "outputId": "b8b0ed08-c79f-41e1-9774-71fa5838f819"
      },
      "id": "Vn0ey2HfPa0Y",
      "execution_count": null,
      "outputs": [
        {
          "output_type": "stream",
          "name": "stdout",
          "text": [
            "<class 'pandas.core.frame.DataFrame'>\n",
            "Int64Index: 541 entries, 0 to 3112\n",
            "Data columns (total 14 columns):\n",
            " #   Column      Non-Null Count  Dtype  \n",
            "---  ------      --------------  -----  \n",
            " 0   created_at  541 non-null    object \n",
            " 1   LT          541 non-null    object \n",
            " 2   LB          541 non-null    float64\n",
            " 3   KT          541 non-null    float64\n",
            " 4   KM          541 non-null    float64\n",
            " 5   garasi      288 non-null    float64\n",
            " 6   carport     460 non-null    float64\n",
            " 7   lokasi      541 non-null    object \n",
            " 8   sertifikat  539 non-null    object \n",
            " 9   listrik     508 non-null    float64\n",
            " 10  harga       541 non-null    float64\n",
            " 11  URL         541 non-null    object \n",
            " 12  deskripsi   541 non-null    object \n",
            " 13  Kota        541 non-null    object \n",
            "dtypes: float64(7), object(7)\n",
            "memory usage: 63.4+ KB\n",
            "None\n"
          ]
        }
      ]
    },
    {
      "cell_type": "code",
      "source": [
        "print('Duplicated Values :')\n",
        "print(df_full_non_null.duplicated().sum())"
      ],
      "metadata": {
        "colab": {
          "base_uri": "https://localhost:8080/"
        },
        "id": "AkTAvfMLPdia",
        "outputId": "f65ea115-fc20-46a2-fa7e-fc5355021dbd"
      },
      "id": "AkTAvfMLPdia",
      "execution_count": null,
      "outputs": [
        {
          "output_type": "stream",
          "name": "stdout",
          "text": [
            "Duplicated Values :\n",
            "0\n"
          ]
        }
      ]
    },
    {
      "cell_type": "code",
      "source": [
        "df_full_non_null['garasi'] = df_full_non_null['garasi'].fillna(np.round(np.mean(df_full_non_null['garasi'])))\n",
        "df_full_non_null['carport'] = df_full_non_null['carport'].fillna(np.round(np.mean(df_full_non_null['carport'])))\n",
        "df_full_non_null['listrik'] = df_full_non_null['listrik'].fillna(np.mean(df_full_non_null['listrik']))"
      ],
      "metadata": {
        "colab": {
          "base_uri": "https://localhost:8080/"
        },
        "id": "FPGkgj_HPlbg",
        "outputId": "e4d49b9e-0124-4458-cbcf-91ed703122a0"
      },
      "id": "FPGkgj_HPlbg",
      "execution_count": null,
      "outputs": [
        {
          "output_type": "stream",
          "name": "stderr",
          "text": [
            "/usr/local/lib/python3.7/dist-packages/ipykernel_launcher.py:1: SettingWithCopyWarning: \n",
            "A value is trying to be set on a copy of a slice from a DataFrame.\n",
            "Try using .loc[row_indexer,col_indexer] = value instead\n",
            "\n",
            "See the caveats in the documentation: https://pandas.pydata.org/pandas-docs/stable/user_guide/indexing.html#returning-a-view-versus-a-copy\n",
            "  \"\"\"Entry point for launching an IPython kernel.\n",
            "/usr/local/lib/python3.7/dist-packages/ipykernel_launcher.py:2: SettingWithCopyWarning: \n",
            "A value is trying to be set on a copy of a slice from a DataFrame.\n",
            "Try using .loc[row_indexer,col_indexer] = value instead\n",
            "\n",
            "See the caveats in the documentation: https://pandas.pydata.org/pandas-docs/stable/user_guide/indexing.html#returning-a-view-versus-a-copy\n",
            "  \n",
            "/usr/local/lib/python3.7/dist-packages/ipykernel_launcher.py:3: SettingWithCopyWarning: \n",
            "A value is trying to be set on a copy of a slice from a DataFrame.\n",
            "Try using .loc[row_indexer,col_indexer] = value instead\n",
            "\n",
            "See the caveats in the documentation: https://pandas.pydata.org/pandas-docs/stable/user_guide/indexing.html#returning-a-view-versus-a-copy\n",
            "  This is separate from the ipykernel package so we can avoid doing imports until\n"
          ]
        }
      ]
    },
    {
      "cell_type": "code",
      "source": [
        "df_full_non_null['garasi'] = df_full_non_null['garasi'].astype('int64')\n",
        "df_full_non_null['carport'] = df_full_non_null['carport'].astype('int64')\n",
        "df_full_non_null['LT'] = df_full_non_null['LT'].astype('float64')\n",
        "df_full_non_null['LB'] = df_full_non_null['LB'].astype('float64')\n",
        "df_full_non_null['KT'] = df_full_non_null['KT'].astype('int64')\n",
        "df_full_non_null['KM'] = df_full_non_null['KM'].astype('int64')\n",
        "df_full_non_null['created_at'] = pd.to_datetime(df_full_non_null['created_at'], format = '%d-%m-%Y')"
      ],
      "metadata": {
        "colab": {
          "base_uri": "https://localhost:8080/"
        },
        "id": "TDEPT8ruPsu5",
        "outputId": "6e00a99b-b8b8-4587-d0ae-604cbeeebf45"
      },
      "id": "TDEPT8ruPsu5",
      "execution_count": null,
      "outputs": [
        {
          "output_type": "stream",
          "name": "stderr",
          "text": [
            "/usr/local/lib/python3.7/dist-packages/ipykernel_launcher.py:1: SettingWithCopyWarning: \n",
            "A value is trying to be set on a copy of a slice from a DataFrame.\n",
            "Try using .loc[row_indexer,col_indexer] = value instead\n",
            "\n",
            "See the caveats in the documentation: https://pandas.pydata.org/pandas-docs/stable/user_guide/indexing.html#returning-a-view-versus-a-copy\n",
            "  \"\"\"Entry point for launching an IPython kernel.\n",
            "/usr/local/lib/python3.7/dist-packages/ipykernel_launcher.py:2: SettingWithCopyWarning: \n",
            "A value is trying to be set on a copy of a slice from a DataFrame.\n",
            "Try using .loc[row_indexer,col_indexer] = value instead\n",
            "\n",
            "See the caveats in the documentation: https://pandas.pydata.org/pandas-docs/stable/user_guide/indexing.html#returning-a-view-versus-a-copy\n",
            "  \n",
            "/usr/local/lib/python3.7/dist-packages/ipykernel_launcher.py:3: SettingWithCopyWarning: \n",
            "A value is trying to be set on a copy of a slice from a DataFrame.\n",
            "Try using .loc[row_indexer,col_indexer] = value instead\n",
            "\n",
            "See the caveats in the documentation: https://pandas.pydata.org/pandas-docs/stable/user_guide/indexing.html#returning-a-view-versus-a-copy\n",
            "  This is separate from the ipykernel package so we can avoid doing imports until\n",
            "/usr/local/lib/python3.7/dist-packages/ipykernel_launcher.py:4: SettingWithCopyWarning: \n",
            "A value is trying to be set on a copy of a slice from a DataFrame.\n",
            "Try using .loc[row_indexer,col_indexer] = value instead\n",
            "\n",
            "See the caveats in the documentation: https://pandas.pydata.org/pandas-docs/stable/user_guide/indexing.html#returning-a-view-versus-a-copy\n",
            "  after removing the cwd from sys.path.\n",
            "/usr/local/lib/python3.7/dist-packages/ipykernel_launcher.py:5: SettingWithCopyWarning: \n",
            "A value is trying to be set on a copy of a slice from a DataFrame.\n",
            "Try using .loc[row_indexer,col_indexer] = value instead\n",
            "\n",
            "See the caveats in the documentation: https://pandas.pydata.org/pandas-docs/stable/user_guide/indexing.html#returning-a-view-versus-a-copy\n",
            "  \"\"\"\n",
            "/usr/local/lib/python3.7/dist-packages/ipykernel_launcher.py:6: SettingWithCopyWarning: \n",
            "A value is trying to be set on a copy of a slice from a DataFrame.\n",
            "Try using .loc[row_indexer,col_indexer] = value instead\n",
            "\n",
            "See the caveats in the documentation: https://pandas.pydata.org/pandas-docs/stable/user_guide/indexing.html#returning-a-view-versus-a-copy\n",
            "  \n",
            "/usr/local/lib/python3.7/dist-packages/ipykernel_launcher.py:7: SettingWithCopyWarning: \n",
            "A value is trying to be set on a copy of a slice from a DataFrame.\n",
            "Try using .loc[row_indexer,col_indexer] = value instead\n",
            "\n",
            "See the caveats in the documentation: https://pandas.pydata.org/pandas-docs/stable/user_guide/indexing.html#returning-a-view-versus-a-copy\n",
            "  import sys\n"
          ]
        }
      ]
    },
    {
      "cell_type": "code",
      "source": [
        "print(df_full_non_null.info())"
      ],
      "metadata": {
        "colab": {
          "base_uri": "https://localhost:8080/"
        },
        "id": "QWiQNTcnQyHr",
        "outputId": "6569f8ab-ee79-44cb-d2d9-a05d89c327ab"
      },
      "id": "QWiQNTcnQyHr",
      "execution_count": null,
      "outputs": [
        {
          "output_type": "stream",
          "name": "stdout",
          "text": [
            "<class 'pandas.core.frame.DataFrame'>\n",
            "Int64Index: 541 entries, 0 to 3112\n",
            "Data columns (total 14 columns):\n",
            " #   Column      Non-Null Count  Dtype         \n",
            "---  ------      --------------  -----         \n",
            " 0   created_at  541 non-null    datetime64[ns]\n",
            " 1   LT          541 non-null    float64       \n",
            " 2   LB          541 non-null    float64       \n",
            " 3   KT          541 non-null    int64         \n",
            " 4   KM          541 non-null    int64         \n",
            " 5   garasi      541 non-null    int64         \n",
            " 6   carport     541 non-null    int64         \n",
            " 7   lokasi      541 non-null    object        \n",
            " 8   sertifikat  539 non-null    object        \n",
            " 9   listrik     508 non-null    float64       \n",
            " 10  harga       541 non-null    float64       \n",
            " 11  URL         541 non-null    object        \n",
            " 12  deskripsi   541 non-null    object        \n",
            " 13  Kota        541 non-null    object        \n",
            "dtypes: datetime64[ns](1), float64(4), int64(4), object(5)\n",
            "memory usage: 63.4+ KB\n",
            "None\n"
          ]
        }
      ]
    },
    {
      "cell_type": "code",
      "source": [
        "df_full_non_null.dropna(inplace = True)"
      ],
      "metadata": {
        "colab": {
          "base_uri": "https://localhost:8080/"
        },
        "id": "JlbGy7w7QLPD",
        "outputId": "40ae288d-70a4-460f-a89a-49e73133877e"
      },
      "id": "JlbGy7w7QLPD",
      "execution_count": null,
      "outputs": [
        {
          "output_type": "stream",
          "name": "stderr",
          "text": [
            "/usr/local/lib/python3.7/dist-packages/pandas/util/_decorators.py:311: SettingWithCopyWarning: \n",
            "A value is trying to be set on a copy of a slice from a DataFrame\n",
            "\n",
            "See the caveats in the documentation: https://pandas.pydata.org/pandas-docs/stable/user_guide/indexing.html#returning-a-view-versus-a-copy\n",
            "  return func(*args, **kwargs)\n"
          ]
        }
      ]
    },
    {
      "cell_type": "code",
      "source": [
        "print(df_full_non_null.info())"
      ],
      "metadata": {
        "colab": {
          "base_uri": "https://localhost:8080/"
        },
        "id": "hx_1IrTNQhfg",
        "outputId": "cdac699d-b2d1-4a74-fa95-f05b8b1648ff"
      },
      "id": "hx_1IrTNQhfg",
      "execution_count": null,
      "outputs": [
        {
          "output_type": "stream",
          "name": "stdout",
          "text": [
            "<class 'pandas.core.frame.DataFrame'>\n",
            "Int64Index: 506 entries, 0 to 3112\n",
            "Data columns (total 14 columns):\n",
            " #   Column      Non-Null Count  Dtype         \n",
            "---  ------      --------------  -----         \n",
            " 0   created_at  506 non-null    datetime64[ns]\n",
            " 1   LT          506 non-null    float64       \n",
            " 2   LB          506 non-null    float64       \n",
            " 3   KT          506 non-null    int64         \n",
            " 4   KM          506 non-null    int64         \n",
            " 5   garasi      506 non-null    int64         \n",
            " 6   carport     506 non-null    int64         \n",
            " 7   lokasi      506 non-null    object        \n",
            " 8   sertifikat  506 non-null    object        \n",
            " 9   listrik     506 non-null    float64       \n",
            " 10  harga       506 non-null    float64       \n",
            " 11  URL         506 non-null    object        \n",
            " 12  deskripsi   506 non-null    object        \n",
            " 13  Kota        506 non-null    object        \n",
            "dtypes: datetime64[ns](1), float64(4), int64(4), object(5)\n",
            "memory usage: 59.3+ KB\n",
            "None\n"
          ]
        }
      ]
    },
    {
      "cell_type": "code",
      "source": [],
      "metadata": {
        "id": "wt17oOWFQmN4"
      },
      "id": "wt17oOWFQmN4",
      "execution_count": null,
      "outputs": []
    }
  ],
  "metadata": {
    "kernelspec": {
      "display_name": "Python 3 (ipykernel)",
      "language": "python",
      "name": "python3"
    },
    "language_info": {
      "codemirror_mode": {
        "name": "ipython",
        "version": 3
      },
      "file_extension": ".py",
      "mimetype": "text/x-python",
      "name": "python",
      "nbconvert_exporter": "python",
      "pygments_lexer": "ipython3",
      "version": "3.7.13"
    },
    "colab": {
      "provenance": [],
      "collapsed_sections": [],
      "include_colab_link": true
    }
  },
  "nbformat": 4,
  "nbformat_minor": 5
}