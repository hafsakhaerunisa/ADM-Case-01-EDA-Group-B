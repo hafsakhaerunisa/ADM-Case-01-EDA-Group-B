{
  "cells": [
    {
      "cell_type": "markdown",
      "metadata": {
        "id": "view-in-github",
        "colab_type": "text"
      },
      "source": [
        "<a href=\"https://colab.research.google.com/github/hafsakhaerunisa/ADM-Case-01-EDA-Group-B/blob/main/ADM_Case_01_EDA_Group_B.ipynb\" target=\"_parent\"><img src=\"https://colab.research.google.com/assets/colab-badge.svg\" alt=\"Open In Colab\"/></a>"
      ]
    },
    {
      "cell_type": "markdown",
      "metadata": {
        "id": "a6835ef2"
      },
      "source": [
        "<center><h2><strong><font color=\"blue\">Study Case 01 - Data Mining dan Business Intelligence: EDA pada data property</font></strong></h2></center>\n",
        "\n",
        "<img alt=\"\" src=\"https://github.com/taufiksutanto/ADM-Case-01-EDA/blob/main/images/Ray-pink-Property-Case-Banner.jpg?raw=1\"/>"
      ],
      "id": "a6835ef2"
    },
    {
      "cell_type": "markdown",
      "metadata": {
        "id": "8cbd8d70"
      },
      "source": [
        "# Kasus:\n",
        "\n",
        "* Anda adalah seorang Data Analyst yang bekerja di PT **Ray Pink Property Indonesia** (RPPI).\n",
        "* RPPI adalah perusahaan property yang berdiri sejak 11 tahun yang lalu.\n",
        "* RPPI memliki kantor cabang di 7 propinsi di Indonesia dan jumlahnya terus bertambah.\n",
        "* Valuasi RPPI tahun ini mencapai Rp 7 Trilyun, meningkat 7% dari tahun sebelumnya.\n",
        "* Bidang usaha RPPI adalah investasi dan jual-beli property secara umum, termasuk bekerja sama dengan developer perumahan.\n",
        "* Data Engineer (DE)/Database Administrator (DBA) RPPI berhasil mengumpulkan data rumah-rumah yang dijual di beberapa kota di Indonesia.\n",
        "* Sebagai Data Analyst anda akan hadir dan melakukan presentasi pada rapat direksi untuk memberikan insight dari data ke upper management (C-Level, senior managers, dan komisaris perusahaan).\n",
        "* Di studi kasus ini anda mempersiapkan \"bahan presentasi\" dengan cara melakukan EDA pada data yang diterima dari DE/DBA."
      ],
      "id": "8cbd8d70"
    },
    {
      "cell_type": "markdown",
      "metadata": {
        "id": "0c3cb380"
      },
      "source": [
        "## Petunjuk:\n",
        "\n",
        "Di studi kasus pertama, anda mendapat bantuan keterangan dari manajemen. Setelah berdiskusi *over lunch* dengan beberapa manager senior, anda mendengar bahwa mereka ingin mengetahui:\n",
        "\n",
        "1. Kualitas data yang dimiliki perusahaan.\n",
        "2. Apakah ada saran perbaikan data ke DE/DBA perusahaan agar RPPI menjadi *data driven company* yang unggul.\n",
        "3. Dari data yang ada, apakah ada kecenderungan rumah disuatu kota lebih mahal/murah dibandingkan kota lain?\n",
        "4. Dari data yang ada, apakah bisa dibuat rekomendasi sebaiknya RPPI membuat kantor cabang berikutnya di kota mana? Mengapa? (Asumsikan RPPI belum memiliki cabang di kota-kota yang disebutkan di data).\n",
        "5. Rumah dengan karakteristik seperti apa yang paling banyak dijual?\n",
        "6. Jika RPPI ingin melakukan investasi (max) Rp. 25 Milyar minggu besok, apakah dari data anda dapat memberikan rekomendasi rumah mana saja yang akan berpotensi menghasilkan keuntungan bagi perusahaan?\n",
        "7. Dan yang terpenting, informasi berharga apa lagi yang bisa anda dapatkan dari data?"
      ],
      "id": "0c3cb380"
    },
    {
      "cell_type": "markdown",
      "metadata": {
        "id": "691c8ffc"
      },
      "source": [
        "## Catatan:\n",
        "\n",
        "* Anda diperbolehkan melakukan augmentasi data (menambah data eksternal).\n",
        "* Yakinkan menuliskan asumsi anda atas kesimpulan dan rekomendasi yang diberikan ke perusahaan.\n",
        "* Yakinkan kesimpulan dan rekomendasi ditujukan ke perusahaan (bukan dosen mata kuliah).\n",
        "* Anda boleh menggunakan software visualisasi apapun, misal excel, Ms Word, Photoshop, dsb.\n",
        "* Yakinkan file images dapat dibuka (nampak) saat ipynb di Jupyter notebook anda dibuka di Google Colab.\n",
        " - Tips: hati-hati dalam melakukan penamaan file, Google colab case sensitive.\n",
        "* Interpretasi diberikan menggunakan cell markdown tepat dibawah output code yang relevan diatasnya.\n",
        "* Anda tidak diperkenankan bertanya pertanyaan yang:\n",
        " - Merupakan jawaban atau menjurus ke jawaban studi kasus.\n",
        " - Debugging - code error (anda diharapkan melakukan code troubleshooting sendiri via mesin pencari)\n",
        "* Pada studi kasus ini anda hanya diperkenankan untuk melakukan EDA (bukan modeling seperti prediksi/forecasting)"
      ],
      "id": "691c8ffc"
    },
    {
      "cell_type": "markdown",
      "metadata": {
        "id": "848a2096"
      },
      "source": [
        "## Komponen Penilaian:\n",
        "\n",
        "* Code tidak diubah sejak deadline studi kasus.\n",
        "* Code dapat di \"Run-All\" di Google Colab oleh dosen tanpa error.\n",
        "* Pemilihan preprocessing dan visualisasi yang tepat\n",
        "* Interpretasi dan rekomendasi dengan narasi dan kualitas yang baik, serta berdasarkan atas (pengolahan) data.\n",
        "* Kreativitas dan inovasi pengolahan data dan penyajian visualisasi."
      ],
      "id": "848a2096"
    },
    {
      "cell_type": "markdown",
      "metadata": {
        "id": "e5a333c7"
      },
      "source": [
        "# Kualitas data yang dimiliki perusahaan."
      ],
      "id": "e5a333c7"
    },
    {
      "cell_type": "code",
      "execution_count": null,
      "metadata": {
        "id": "ddd7f934"
      },
      "outputs": [],
      "source": [
        "# Loading Data\n",
        "\n",
        "import pandas as pd\n",
        "import numpy as np\n",
        "import matplotlib.pyplot as plt\n",
        "import seaborn as sns\n",
        "import missingno as msnum"
      ],
      "id": "ddd7f934"
    },
    {
      "cell_type": "code",
      "execution_count": null,
      "metadata": {
        "colab": {
          "background_save": true
        },
        "id": "shGK0oYD_HAI"
      },
      "outputs": [],
      "source": [
        "df_depok = pd.read_csv('https://raw.githubusercontent.com/taufiksutanto/ADM-Case-01-EDA/master/data/depok.csv',low_memory = False, encoding='utf8')\n",
        "df_bogor = pd.read_csv('https://raw.githubusercontent.com/taufiksutanto/ADM-Case-01-EDA/master/data/bogor.csv',low_memory = False, encoding='utf8')\n",
        "df_tangerang = pd.read_csv('https://raw.githubusercontent.com/taufiksutanto/ADM-Case-01-EDA/master/data/tangerang.csv',low_memory = False, encoding='utf8')\n",
        "df_bekasi = pd.read_csv('https://raw.githubusercontent.com/taufiksutanto/ADM-Case-01-EDA/master/data/bekasi.csv',low_memory = False, encoding='utf8')"
      ],
      "id": "shGK0oYD_HAI"
    },
    {
      "cell_type": "markdown",
      "metadata": {
        "id": "ISpRi3rAHUyM"
      },
      "source": [
        "Sebelum melakukan analisis lanjutan, dilakukan drop kolom `Unnamed: 14`, `Unnamed: 15`, `Unnamed: 16`, `Unnamed: 17`, `Unnamed: 18`, `Unnamed: 19`, `Unnamed: 20`, `Unnamed: 21`, `Unnamed: 22`, `Unnamed: 23`, `Unnamed: 24`, `Unnamed: 25` karena kolom tersebut pada semua data tidak memiliki values sehingga tidak ada hal yang dapat disimpulkan dari kolom tersebut."
      ],
      "id": "ISpRi3rAHUyM"
    },
    {
      "cell_type": "code",
      "execution_count": null,
      "metadata": {
        "colab": {
          "background_save": true
        },
        "id": "j69sg9kQEL55"
      },
      "outputs": [],
      "source": [
        "# Drop colomnd as mentioned above\n",
        "df_bogor = df_bogor[['created_at', 'LT', 'LB', 'KT', 'KM', 'garasi', 'carport', 'lokasi','sertifikat', 'listrik', 'hadap', 'harga', 'URL', 'deskripsi']]\n",
        "df_depok = df_depok[['created_at', 'LT', 'LB', 'KT', 'KM', 'garasi', 'carport', 'lokasi','sertifikat', 'listrik', 'hadap', 'harga', 'URL', 'deskripsi']]\n",
        "df_tangerang = df_tangerang[['created_at', 'LT', 'LB', 'KT', 'KM', 'garasi', 'carport', 'lokasi','sertifikat', 'listrik', 'hadap', 'harga', 'URL', 'deskripsi']]\n",
        "df_bekasi = df_bekasi[['created_at', 'LT', 'LB', 'KT', 'KM', 'garasi', 'carport', 'lokasi','sertifikat', 'listrik', 'hadap', 'harga', 'URL', 'deskripsi']]"
      ],
      "id": "j69sg9kQEL55"
    },
    {
      "cell_type": "markdown",
      "metadata": {
        "id": "GnjM7CwQNjXp"
      },
      "source": [
        "Selanjutnya akan dilakukan penggabungan dari database rumah-rumah di Jakarta, Depok, Bogor, Tangerang, dan Bekasi ke dalam satu database."
      ],
      "id": "GnjM7CwQNjXp"
    },
    {
      "cell_type": "code",
      "execution_count": null,
      "metadata": {
        "colab": {
          "background_save": true
        },
        "id": "lsxb4qvVESzg"
      },
      "outputs": [],
      "source": [
        "# Create new colomn `Kota` to identify the source for each database\n",
        "df_bogor['Kota'] = ['Bogor' for i in range(df_bogor.shape[0])]\n",
        "df_bekasi['Kota'] = ['Bekasi' for i in range(df_bekasi.shape[0])]\n",
        "df_depok['Kota'] = ['Depok' for i in range(df_depok.shape[0])]\n",
        "df_tangerang['Kota'] = ['Tangerang' for i in range(df_tangerang.shape[0])]"
      ],
      "id": "lsxb4qvVESzg"
    },
    {
      "cell_type": "code",
      "execution_count": null,
      "metadata": {
        "colab": {
          "background_save": true
        },
        "id": "ZhwOeeyRGUyn"
      },
      "outputs": [],
      "source": [
        "# Joining databases \n",
        "df_full = pd.concat([df_bogor,df_bekasi,df_depok,df_tangerang], axis = 0, ignore_index = True)"
      ],
      "id": "ZhwOeeyRGUyn"
    },
    {
      "cell_type": "markdown",
      "metadata": {
        "id": "7FLqxVKxT7u1"
      },
      "source": [
        "## Missing Values\n",
        "\n",
        "Note:\n",
        "- Terdapat beberapa missing values pada kolom semua kolom.\n",
        "- Untuk kolom `hadap` yang memiliki sekitar 94% missing values akan ditanganni dengan melakukan drop kolom.  Dengan lebih dari 90% data yang missing, akan sangat sulit untuk dilakukan interpretasi terhadap data dan kurang dapat menjelaskan populasi yang ada. Dengan demikian, kami merekomendasikan untuk melakukan dropping kolom.\n",
        "- Untuk kolom `` yang mengalami missing values akan ditangani dengan melakukan drop baris karena proporsi data missing pada kolom tersebut kurang dari ...%\n"
      ],
      "id": "7FLqxVKxT7u1"
    },
    {
      "cell_type": "code",
      "execution_count": null,
      "metadata": {
        "colab": {
          "background_save": true,
          "base_uri": "https://localhost:8080/"
        },
        "id": "HUKhy2V6SeN0",
        "outputId": "bffe5425-0252-47db-8049-6a0c7b859ea8"
      },
      "outputs": [
        {
          "data": {
            "text/plain": [
              "created_at    2574\n",
              "LT            2573\n",
              "LB            2575\n",
              "KT            2575\n",
              "KM            2576\n",
              "garasi        2828\n",
              "carport       2657\n",
              "lokasi        2575\n",
              "sertifikat    2578\n",
              "listrik       2609\n",
              "hadap         2939\n",
              "harga         2575\n",
              "URL           2575\n",
              "deskripsi     2575\n",
              "Kota             0\n",
              "dtype: int64"
            ]
          },
          "execution_count": 37,
          "metadata": {},
          "output_type": "execute_result"
        }
      ],
      "source": [
        "# Amount of missing values for every colomn\n",
        "df_full.isnull().sum()"
      ],
      "id": "HUKhy2V6SeN0"
    },
    {
      "cell_type": "code",
      "execution_count": null,
      "metadata": {
        "colab": {
          "background_save": true,
          "base_uri": "https://localhost:8080/"
        },
        "id": "sTTMRjCmSyLb",
        "outputId": "362040e6-351a-4ece-dade-12752f5f3082"
      },
      "outputs": [
        {
          "data": {
            "text/plain": [
              "created_at    0.825794\n",
              "LT            0.825473\n",
              "LB            0.826115\n",
              "KT            0.826115\n",
              "KM            0.826436\n",
              "garasi        0.907283\n",
              "carport       0.852422\n",
              "lokasi        0.826115\n",
              "sertifikat    0.827077\n",
              "listrik       0.837023\n",
              "hadap         0.942894\n",
              "harga         0.826115\n",
              "URL           0.826115\n",
              "deskripsi     0.826115\n",
              "Kota          0.000000\n",
              "dtype: float64"
            ]
          },
          "execution_count": 38,
          "metadata": {},
          "output_type": "execute_result"
        }
      ],
      "source": [
        "# Proportion Missing Values for every colomn\n",
        "df_full.isnull().sum()/df_full.shape[0]"
      ],
      "id": "sTTMRjCmSyLb"
    },
    {
      "cell_type": "code",
      "execution_count": null,
      "metadata": {
        "colab": {
          "base_uri": "https://localhost:8080/",
          "height": 446
        },
        "id": "Pa6VKhYtRi-x",
        "outputId": "7ee868d2-80f9-412b-8968-ac7c071580ab"
      },
      "outputs": [
        {
          "data": {
            "text/plain": [
              "<matplotlib.axes._subplots.AxesSubplot at 0x7f79ca921ad0>"
            ]
          },
          "execution_count": 8,
          "metadata": {},
          "output_type": "execute_result"
        },
        {
          "data": {
            "image/png": "[encoded data removed]",
            "text/plain": [
              "<Figure size 1800x720 with 2 Axes>"
            ]
          },
          "metadata": {},
          "output_type": "display_data"
        }
      ],
      "source": [
        "msnum.matrix(df_full)"
      ],
      "id": "Pa6VKhYtRi-x"
    },
    {
      "cell_type": "markdown",
      "metadata": {
        "id": "qqpImH2iUTzJ"
      },
      "source": [
        "Pada heatmap dapat dilihat bahwa missing values tersebar pada beberapa kolom, namun kolom `hadap` memiliki proporsi missing values yang paling besar."
      ],
      "id": "qqpImH2iUTzJ"
    },
    {
      "cell_type": "code",
      "execution_count": null,
      "metadata": {
        "id": "n_6LYLcXL2yB"
      },
      "outputs": [],
      "source": [
        "# Drop rows from variable LT, LB, KT, KM, harga\n",
        "df_full_non_null = df_full.dropna(subset  = ['LT','LB','KT','KM','harga'])"
      ],
      "id": "n_6LYLcXL2yB"
    },
    {
      "cell_type": "markdown",
      "source": [
        "Untuk kolom `LT`, `LB`, `KT`, `KM`, dan `harga` yang mengalami missing values akan ditangani dengan melakukan drop baris karena proporsi data missing pada kolom tersebut kurang dari 90%."
      ],
      "metadata": {
        "id": "HTCARq9iW9oF"
      },
      "id": "HTCARq9iW9oF"
    },
    {
      "cell_type": "code",
      "execution_count": null,
      "metadata": {
        "id": "3pxbv705L8wm"
      },
      "outputs": [],
      "source": [
        "# Drop colomn hadap\n",
        "df_full_non_null.drop(columns = 'hadap', inplace = True)"
      ],
      "id": "3pxbv705L8wm"
    },
    {
      "cell_type": "markdown",
      "source": [
        "Untuk kolom `hadap` yang memiliki sekitar 94% missing values akan ditanganni dengan melakukan **drop kolom**.  Dengan lebih dari 90% data yang missing, akan sangat sulit untuk dilakukan interpretasi terhadap data dan kurang dapat menjelaskan populasi yang ada. Dengan demikian, kami merekomendasikan untuk melakukan dropping kolom."
      ],
      "metadata": {
        "id": "ysAlNPPBW2Lr"
      },
      "id": "ysAlNPPBW2Lr"
    },
    {
      "cell_type": "code",
      "execution_count": null,
      "metadata": {
        "colab": {
          "base_uri": "https://localhost:8080/"
        },
        "id": "Vn0ey2HfPa0Y",
        "outputId": "d72f66c0-1aad-4729-f593-63d8ae756612"
      },
      "outputs": [
        {
          "output_type": "stream",
          "name": "stdout",
          "text": [
            "<class 'pandas.core.frame.DataFrame'>\n",
            "Int64Index: 541 entries, 0 to 3112\n",
            "Data columns (total 14 columns):\n",
            " #   Column      Non-Null Count  Dtype  \n",
            "---  ------      --------------  -----  \n",
            " 0   created_at  541 non-null    object \n",
            " 1   LT          541 non-null    object \n",
            " 2   LB          541 non-null    float64\n",
            " 3   KT          541 non-null    float64\n",
            " 4   KM          541 non-null    float64\n",
            " 5   garasi      288 non-null    float64\n",
            " 6   carport     460 non-null    float64\n",
            " 7   lokasi      541 non-null    object \n",
            " 8   sertifikat  539 non-null    object \n",
            " 9   listrik     508 non-null    float64\n",
            " 10  harga       541 non-null    float64\n",
            " 11  URL         541 non-null    object \n",
            " 12  deskripsi   541 non-null    object \n",
            " 13  Kota        541 non-null    object \n",
            "dtypes: float64(7), object(7)\n",
            "memory usage: 63.4+ KB\n",
            "None\n"
          ]
        }
      ],
      "source": [
        "print(df_full_non_null.info())"
      ],
      "id": "Vn0ey2HfPa0Y"
    },
    {
      "cell_type": "code",
      "source": [
        "df_full_non_null.describe()"
      ],
      "metadata": {
        "colab": {
          "base_uri": "https://localhost:8080/",
          "height": 300
        },
        "id": "2NroXhyUYDkH",
        "outputId": "5ffbf760-454c-4b39-ecc6-76a3711372a8"
      },
      "id": "2NroXhyUYDkH",
      "execution_count": null,
      "outputs": [
        {
          "output_type": "execute_result",
          "data": {
            "text/plain": [
              "                LB          KT          KM      garasi     carport  \\\n",
              "count   541.000000  541.000000  541.000000  288.000000  460.000000   \n",
              "mean    122.092421    2.902033    2.062847    0.670139    1.404348   \n",
              "std     160.996212    1.098659    1.159393    1.180066    0.962014   \n",
              "min      15.000000    1.000000    1.000000    0.000000    0.000000   \n",
              "25%      47.000000    2.000000    1.000000    0.000000    1.000000   \n",
              "50%      72.000000    3.000000    2.000000    0.000000    1.000000   \n",
              "75%     136.000000    3.000000    3.000000    1.000000    2.000000   \n",
              "max    2500.000000    8.000000    8.000000   10.000000   10.000000   \n",
              "\n",
              "            listrik         harga  \n",
              "count    508.000000  5.410000e+02  \n",
              "mean    2498.818898  6.679639e+08  \n",
              "std     3448.579530  1.437812e+09  \n",
              "min      900.000000  4.100000e+01  \n",
              "25%     1300.000000  1.490000e+03  \n",
              "50%     2200.000000  2.700000e+08  \n",
              "75%     2200.000000  8.250000e+08  \n",
              "max    66000.000000  1.650000e+10  "
            ],
            "text/html": [
              "\n",
              "  <div id=\"df-89d89851-e617-48d8-88d2-ec07672ceedf\">\n",
              "    <div class=\"colab-df-container\">\n",
              "      <div>\n",
              "<style scoped>\n",
              "    .dataframe tbody tr th:only-of-type {\n",
              "        vertical-align: middle;\n",
              "    }\n",
              "\n",
              "    .dataframe tbody tr th {\n",
              "        vertical-align: top;\n",
              "    }\n",
              "\n",
              "    .dataframe thead th {\n",
              "        text-align: right;\n",
              "    }\n",
              "</style>\n",
              "<table border=\"1\" class=\"dataframe\">\n",
              "  <thead>\n",
              "    <tr style=\"text-align: right;\">\n",
              "      <th></th>\n",
              "      <th>LB</th>\n",
              "      <th>KT</th>\n",
              "      <th>KM</th>\n",
              "      <th>garasi</th>\n",
              "      <th>carport</th>\n",
              "      <th>listrik</th>\n",
              "      <th>harga</th>\n",
              "    </tr>\n",
              "  </thead>\n",
              "  <tbody>\n",
              "    <tr>\n",
              "      <th>count</th>\n",
              "      <td>541.000000</td>\n",
              "      <td>541.000000</td>\n",
              "      <td>541.000000</td>\n",
              "      <td>288.000000</td>\n",
              "      <td>460.000000</td>\n",
              "      <td>508.000000</td>\n",
              "      <td>5.410000e+02</td>\n",
              "    </tr>\n",
              "    <tr>\n",
              "      <th>mean</th>\n",
              "      <td>122.092421</td>\n",
              "      <td>2.902033</td>\n",
              "      <td>2.062847</td>\n",
              "      <td>0.670139</td>\n",
              "      <td>1.404348</td>\n",
              "      <td>2498.818898</td>\n",
              "      <td>6.679639e+08</td>\n",
              "    </tr>\n",
              "    <tr>\n",
              "      <th>std</th>\n",
              "      <td>160.996212</td>\n",
              "      <td>1.098659</td>\n",
              "      <td>1.159393</td>\n",
              "      <td>1.180066</td>\n",
              "      <td>0.962014</td>\n",
              "      <td>3448.579530</td>\n",
              "      <td>1.437812e+09</td>\n",
              "    </tr>\n",
              "    <tr>\n",
              "      <th>min</th>\n",
              "      <td>15.000000</td>\n",
              "      <td>1.000000</td>\n",
              "      <td>1.000000</td>\n",
              "      <td>0.000000</td>\n",
              "      <td>0.000000</td>\n",
              "      <td>900.000000</td>\n",
              "      <td>4.100000e+01</td>\n",
              "    </tr>\n",
              "    <tr>\n",
              "      <th>25%</th>\n",
              "      <td>47.000000</td>\n",
              "      <td>2.000000</td>\n",
              "      <td>1.000000</td>\n",
              "      <td>0.000000</td>\n",
              "      <td>1.000000</td>\n",
              "      <td>1300.000000</td>\n",
              "      <td>1.490000e+03</td>\n",
              "    </tr>\n",
              "    <tr>\n",
              "      <th>50%</th>\n",
              "      <td>72.000000</td>\n",
              "      <td>3.000000</td>\n",
              "      <td>2.000000</td>\n",
              "      <td>0.000000</td>\n",
              "      <td>1.000000</td>\n",
              "      <td>2200.000000</td>\n",
              "      <td>2.700000e+08</td>\n",
              "    </tr>\n",
              "    <tr>\n",
              "      <th>75%</th>\n",
              "      <td>136.000000</td>\n",
              "      <td>3.000000</td>\n",
              "      <td>3.000000</td>\n",
              "      <td>1.000000</td>\n",
              "      <td>2.000000</td>\n",
              "      <td>2200.000000</td>\n",
              "      <td>8.250000e+08</td>\n",
              "    </tr>\n",
              "    <tr>\n",
              "      <th>max</th>\n",
              "      <td>2500.000000</td>\n",
              "      <td>8.000000</td>\n",
              "      <td>8.000000</td>\n",
              "      <td>10.000000</td>\n",
              "      <td>10.000000</td>\n",
              "      <td>66000.000000</td>\n",
              "      <td>1.650000e+10</td>\n",
              "    </tr>\n",
              "  </tbody>\n",
              "</table>\n",
              "</div>\n",
              "      <button class=\"colab-df-convert\" onclick=\"convertToInteractive('df-89d89851-e617-48d8-88d2-ec07672ceedf')\"\n",
              "              title=\"Convert this dataframe to an interactive table.\"\n",
              "              style=\"display:none;\">\n",
              "        \n",
              "  <svg xmlns=\"http://www.w3.org/2000/svg\" height=\"24px\"viewBox=\"0 0 24 24\"\n",
              "       width=\"24px\">\n",
              "    <path d=\"M0 0h24v24H0V0z\" fill=\"none\"/>\n",
              "    <path d=\"M18.56 5.44l.94 2.06.94-2.06 2.06-.94-2.06-.94-.94-2.06-.94 2.06-2.06.94zm-11 1L8.5 8.5l.94-2.06 2.06-.94-2.06-.94L8.5 2.5l-.94 2.06-2.06.94zm10 10l.94 2.06.94-2.06 2.06-.94-2.06-.94-.94-2.06-.94 2.06-2.06.94z\"/><path d=\"M17.41 7.96l-1.37-1.37c-.4-.4-.92-.59-1.43-.59-.52 0-1.04.2-1.43.59L10.3 9.45l-7.72 7.72c-.78.78-.78 2.05 0 2.83L4 21.41c.39.39.9.59 1.41.59.51 0 1.02-.2 1.41-.59l7.78-7.78 2.81-2.81c.8-.78.8-2.07 0-2.86zM5.41 20L4 18.59l7.72-7.72 1.47 1.35L5.41 20z\"/>\n",
              "  </svg>\n",
              "      </button>\n",
              "      \n",
              "  <style>\n",
              "    .colab-df-container {\n",
              "      display:flex;\n",
              "      flex-wrap:wrap;\n",
              "      gap: 12px;\n",
              "    }\n",
              "\n",
              "    .colab-df-convert {\n",
              "      background-color: #E8F0FE;\n",
              "      border: none;\n",
              "      border-radius: 50%;\n",
              "      cursor: pointer;\n",
              "      display: none;\n",
              "      fill: #1967D2;\n",
              "      height: 32px;\n",
              "      padding: 0 0 0 0;\n",
              "      width: 32px;\n",
              "    }\n",
              "\n",
              "    .colab-df-convert:hover {\n",
              "      background-color: #E2EBFA;\n",
              "      box-shadow: 0px 1px 2px rgba(60, 64, 67, 0.3), 0px 1px 3px 1px rgba(60, 64, 67, 0.15);\n",
              "      fill: #174EA6;\n",
              "    }\n",
              "\n",
              "    [theme=dark] .colab-df-convert {\n",
              "      background-color: #3B4455;\n",
              "      fill: #D2E3FC;\n",
              "    }\n",
              "\n",
              "    [theme=dark] .colab-df-convert:hover {\n",
              "      background-color: #434B5C;\n",
              "      box-shadow: 0px 1px 3px 1px rgba(0, 0, 0, 0.15);\n",
              "      filter: drop-shadow(0px 1px 2px rgba(0, 0, 0, 0.3));\n",
              "      fill: #FFFFFF;\n",
              "    }\n",
              "  </style>\n",
              "\n",
              "      <script>\n",
              "        const buttonEl =\n",
              "          document.querySelector('#df-89d89851-e617-48d8-88d2-ec07672ceedf button.colab-df-convert');\n",
              "        buttonEl.style.display =\n",
              "          google.colab.kernel.accessAllowed ? 'block' : 'none';\n",
              "\n",
              "        async function convertToInteractive(key) {\n",
              "          const element = document.querySelector('#df-89d89851-e617-48d8-88d2-ec07672ceedf');\n",
              "          const dataTable =\n",
              "            await google.colab.kernel.invokeFunction('convertToInteractive',\n",
              "                                                     [key], {});\n",
              "          if (!dataTable) return;\n",
              "\n",
              "          const docLinkHtml = 'Like what you see? Visit the ' +\n",
              "            '<a target=\"_blank\" href=https://colab.research.google.com/notebooks/data_table.ipynb>data table notebook</a>'\n",
              "            + ' to learn more about interactive tables.';\n",
              "          element.innerHTML = '';\n",
              "          dataTable['output_type'] = 'display_data';\n",
              "          await google.colab.output.renderOutput(dataTable, element);\n",
              "          const docLink = document.createElement('div');\n",
              "          docLink.innerHTML = docLinkHtml;\n",
              "          element.appendChild(docLink);\n",
              "        }\n",
              "      </script>\n",
              "    </div>\n",
              "  </div>\n",
              "  "
            ]
          },
          "metadata": {},
          "execution_count": 21
        }
      ]
    },
    {
      "cell_type": "code",
      "execution_count": null,
      "metadata": {
        "colab": {
          "base_uri": "https://localhost:8080/"
        },
        "id": "FPGkgj_HPlbg",
        "outputId": "36b4a27d-b7ed-4994-a81a-08b38c0bafe2"
      },
      "outputs": [
        {
          "output_type": "stream",
          "name": "stderr",
          "text": [
            "/usr/local/lib/python3.7/dist-packages/ipykernel_launcher.py:2: SettingWithCopyWarning: \n",
            "A value is trying to be set on a copy of a slice from a DataFrame.\n",
            "Try using .loc[row_indexer,col_indexer] = value instead\n",
            "\n",
            "See the caveats in the documentation: https://pandas.pydata.org/pandas-docs/stable/user_guide/indexing.html#returning-a-view-versus-a-copy\n",
            "  \n",
            "/usr/local/lib/python3.7/dist-packages/ipykernel_launcher.py:3: SettingWithCopyWarning: \n",
            "A value is trying to be set on a copy of a slice from a DataFrame.\n",
            "Try using .loc[row_indexer,col_indexer] = value instead\n",
            "\n",
            "See the caveats in the documentation: https://pandas.pydata.org/pandas-docs/stable/user_guide/indexing.html#returning-a-view-versus-a-copy\n",
            "  This is separate from the ipykernel package so we can avoid doing imports until\n",
            "/usr/local/lib/python3.7/dist-packages/ipykernel_launcher.py:4: SettingWithCopyWarning: \n",
            "A value is trying to be set on a copy of a slice from a DataFrame.\n",
            "Try using .loc[row_indexer,col_indexer] = value instead\n",
            "\n",
            "See the caveats in the documentation: https://pandas.pydata.org/pandas-docs/stable/user_guide/indexing.html#returning-a-view-versus-a-copy\n",
            "  after removing the cwd from sys.path.\n"
          ]
        }
      ],
      "source": [
        "# Handling missing values using imputation\n",
        "df_full_non_null['garasi'] = df_full_non_null['garasi'].fillna(np.round(np.mean(df_full_non_null['garasi'])))\n",
        "df_full_non_null['carport'] = df_full_non_null['carport'].fillna(np.round(np.mean(df_full_non_null['carport'])))\n",
        "df_full_non_null['listrik'] = df_full_non_null['listrik'].fillna(np.mean(df_full_non_null['listrik']))"
      ],
      "id": "FPGkgj_HPlbg"
    },
    {
      "cell_type": "markdown",
      "source": [
        "Untuk missing value pada kolom `garasi`, `carpot`, dan `listrik`, kami merekomendasikan untuk ditanganni dengan **melakukan imputasi menggunakan mean** karena distribusi dari setiap kolom tidak terlalu skewed (dilihat dari nilai mean yang mirip dengan nilai median)."
      ],
      "metadata": {
        "id": "1EZWszfxXeit"
      },
      "id": "1EZWszfxXeit"
    },
    {
      "cell_type": "markdown",
      "source": [
        "## Checking Data Types\n",
        "\n",
        "Note:\n",
        "- Kolom `garasi`, `carport`, `KT`, `KM` diubah dari float menjadi integer karena jumlah kapasitas dari garasi, carport, kamar tidur, dan kamar mandi merupakan data diskrit (bilangan bulat).\n",
        "- Kolom `LT` diubah dari tipe object menjadi float karena luas tanah merupakan data numerik dan bukan kategorik.\n",
        "- Kolom `created_id` diubah dari object menjadi tipe data tanggal (datetime)\n",
        "- Kolom `sertifikat` diubah dari object menjadi `category` "
      ],
      "metadata": {
        "id": "rxICTiKjYhPg"
      },
      "id": "rxICTiKjYhPg"
    },
    {
      "cell_type": "code",
      "execution_count": null,
      "metadata": {
        "colab": {
          "base_uri": "https://localhost:8080/"
        },
        "id": "TDEPT8ruPsu5",
        "outputId": "ccfee4c9-e23b-43ab-aaa2-09d932570416"
      },
      "outputs": [
        {
          "output_type": "stream",
          "name": "stderr",
          "text": [
            "/usr/local/lib/python3.7/dist-packages/ipykernel_launcher.py:1: SettingWithCopyWarning: \n",
            "A value is trying to be set on a copy of a slice from a DataFrame.\n",
            "Try using .loc[row_indexer,col_indexer] = value instead\n",
            "\n",
            "See the caveats in the documentation: https://pandas.pydata.org/pandas-docs/stable/user_guide/indexing.html#returning-a-view-versus-a-copy\n",
            "  \"\"\"Entry point for launching an IPython kernel.\n",
            "/usr/local/lib/python3.7/dist-packages/ipykernel_launcher.py:2: SettingWithCopyWarning: \n",
            "A value is trying to be set on a copy of a slice from a DataFrame.\n",
            "Try using .loc[row_indexer,col_indexer] = value instead\n",
            "\n",
            "See the caveats in the documentation: https://pandas.pydata.org/pandas-docs/stable/user_guide/indexing.html#returning-a-view-versus-a-copy\n",
            "  \n",
            "/usr/local/lib/python3.7/dist-packages/ipykernel_launcher.py:3: SettingWithCopyWarning: \n",
            "A value is trying to be set on a copy of a slice from a DataFrame.\n",
            "Try using .loc[row_indexer,col_indexer] = value instead\n",
            "\n",
            "See the caveats in the documentation: https://pandas.pydata.org/pandas-docs/stable/user_guide/indexing.html#returning-a-view-versus-a-copy\n",
            "  This is separate from the ipykernel package so we can avoid doing imports until\n",
            "/usr/local/lib/python3.7/dist-packages/ipykernel_launcher.py:4: SettingWithCopyWarning: \n",
            "A value is trying to be set on a copy of a slice from a DataFrame.\n",
            "Try using .loc[row_indexer,col_indexer] = value instead\n",
            "\n",
            "See the caveats in the documentation: https://pandas.pydata.org/pandas-docs/stable/user_guide/indexing.html#returning-a-view-versus-a-copy\n",
            "  after removing the cwd from sys.path.\n",
            "/usr/local/lib/python3.7/dist-packages/ipykernel_launcher.py:5: SettingWithCopyWarning: \n",
            "A value is trying to be set on a copy of a slice from a DataFrame.\n",
            "Try using .loc[row_indexer,col_indexer] = value instead\n",
            "\n",
            "See the caveats in the documentation: https://pandas.pydata.org/pandas-docs/stable/user_guide/indexing.html#returning-a-view-versus-a-copy\n",
            "  \"\"\"\n",
            "/usr/local/lib/python3.7/dist-packages/ipykernel_launcher.py:6: SettingWithCopyWarning: \n",
            "A value is trying to be set on a copy of a slice from a DataFrame.\n",
            "Try using .loc[row_indexer,col_indexer] = value instead\n",
            "\n",
            "See the caveats in the documentation: https://pandas.pydata.org/pandas-docs/stable/user_guide/indexing.html#returning-a-view-versus-a-copy\n",
            "  \n",
            "/usr/local/lib/python3.7/dist-packages/ipykernel_launcher.py:7: SettingWithCopyWarning: \n",
            "A value is trying to be set on a copy of a slice from a DataFrame.\n",
            "Try using .loc[row_indexer,col_indexer] = value instead\n",
            "\n",
            "See the caveats in the documentation: https://pandas.pydata.org/pandas-docs/stable/user_guide/indexing.html#returning-a-view-versus-a-copy\n",
            "  import sys\n",
            "/usr/local/lib/python3.7/dist-packages/ipykernel_launcher.py:8: SettingWithCopyWarning: \n",
            "A value is trying to be set on a copy of a slice from a DataFrame.\n",
            "Try using .loc[row_indexer,col_indexer] = value instead\n",
            "\n",
            "See the caveats in the documentation: https://pandas.pydata.org/pandas-docs/stable/user_guide/indexing.html#returning-a-view-versus-a-copy\n",
            "  \n"
          ]
        }
      ],
      "source": [
        "df_full_non_null['garasi'] = df_full_non_null['garasi'].astype('int64')\n",
        "df_full_non_null['carport'] = df_full_non_null['carport'].astype('int64')\n",
        "df_full_non_null['LT'] = df_full_non_null['LT'].astype('float64')\n",
        "df_full_non_null['LB'] = df_full_non_null['LB'].astype('float64')\n",
        "df_full_non_null['KT'] = df_full_non_null['KT'].astype('int64')\n",
        "df_full_non_null['KM'] = df_full_non_null['KM'].astype('int64')\n",
        "df_full_non_null['created_at'] = pd.to_datetime(df_full_non_null['created_at'], format = '%d-%m-%Y')\n",
        "df_full_non_null['sertifikat'] = df_full_non_null['sertifikat'].astype('category')"
      ],
      "id": "TDEPT8ruPsu5"
    },
    {
      "cell_type": "code",
      "execution_count": null,
      "metadata": {
        "colab": {
          "base_uri": "https://localhost:8080/"
        },
        "id": "QWiQNTcnQyHr",
        "outputId": "aabd4b6d-88d1-45d9-beb8-685385ad2bf0"
      },
      "outputs": [
        {
          "output_type": "stream",
          "name": "stdout",
          "text": [
            "<class 'pandas.core.frame.DataFrame'>\n",
            "Int64Index: 541 entries, 0 to 3112\n",
            "Data columns (total 14 columns):\n",
            " #   Column      Non-Null Count  Dtype         \n",
            "---  ------      --------------  -----         \n",
            " 0   created_at  541 non-null    datetime64[ns]\n",
            " 1   LT          541 non-null    float64       \n",
            " 2   LB          541 non-null    float64       \n",
            " 3   KT          541 non-null    int64         \n",
            " 4   KM          541 non-null    int64         \n",
            " 5   garasi      541 non-null    int64         \n",
            " 6   carport     541 non-null    int64         \n",
            " 7   lokasi      541 non-null    object        \n",
            " 8   sertifikat  539 non-null    category      \n",
            " 9   listrik     541 non-null    float64       \n",
            " 10  harga       541 non-null    float64       \n",
            " 11  URL         541 non-null    object        \n",
            " 12  deskripsi   541 non-null    object        \n",
            " 13  Kota        541 non-null    object        \n",
            "dtypes: category(1), datetime64[ns](1), float64(4), int64(4), object(4)\n",
            "memory usage: 59.9+ KB\n",
            "None\n"
          ]
        }
      ],
      "source": [
        "print(df_full_non_null.info())"
      ],
      "id": "QWiQNTcnQyHr"
    },
    {
      "cell_type": "code",
      "execution_count": null,
      "metadata": {
        "colab": {
          "base_uri": "https://localhost:8080/"
        },
        "id": "JlbGy7w7QLPD",
        "outputId": "81282614-e71b-40ec-eb3f-aea6e9b7a053"
      },
      "outputs": [
        {
          "output_type": "stream",
          "name": "stderr",
          "text": [
            "/usr/local/lib/python3.7/dist-packages/pandas/util/_decorators.py:311: SettingWithCopyWarning: \n",
            "A value is trying to be set on a copy of a slice from a DataFrame\n",
            "\n",
            "See the caveats in the documentation: https://pandas.pydata.org/pandas-docs/stable/user_guide/indexing.html#returning-a-view-versus-a-copy\n",
            "  return func(*args, **kwargs)\n"
          ]
        }
      ],
      "source": [
        "df_full_non_null.dropna(inplace = True)"
      ],
      "id": "JlbGy7w7QLPD"
    },
    {
      "cell_type": "markdown",
      "source": [
        "Untuk kolom `sertifikat` akan dilakukan drop baris karena hanya terdapat 2 missing values"
      ],
      "metadata": {
        "id": "q1JiuOP9ZyMr"
      },
      "id": "q1JiuOP9ZyMr"
    },
    {
      "cell_type": "code",
      "execution_count": null,
      "metadata": {
        "colab": {
          "base_uri": "https://localhost:8080/"
        },
        "id": "hx_1IrTNQhfg",
        "outputId": "72df61ce-1401-4bc6-e1e9-86aaafcd29c9"
      },
      "outputs": [
        {
          "output_type": "stream",
          "name": "stdout",
          "text": [
            "<class 'pandas.core.frame.DataFrame'>\n",
            "Int64Index: 539 entries, 0 to 3112\n",
            "Data columns (total 14 columns):\n",
            " #   Column      Non-Null Count  Dtype         \n",
            "---  ------      --------------  -----         \n",
            " 0   created_at  539 non-null    datetime64[ns]\n",
            " 1   LT          539 non-null    float64       \n",
            " 2   LB          539 non-null    float64       \n",
            " 3   KT          539 non-null    int64         \n",
            " 4   KM          539 non-null    int64         \n",
            " 5   garasi      539 non-null    int64         \n",
            " 6   carport     539 non-null    int64         \n",
            " 7   lokasi      539 non-null    object        \n",
            " 8   sertifikat  539 non-null    category      \n",
            " 9   listrik     539 non-null    float64       \n",
            " 10  harga       539 non-null    float64       \n",
            " 11  URL         539 non-null    object        \n",
            " 12  deskripsi   539 non-null    object        \n",
            " 13  Kota        539 non-null    object        \n",
            "dtypes: category(1), datetime64[ns](1), float64(4), int64(4), object(4)\n",
            "memory usage: 59.7+ KB\n",
            "None\n"
          ]
        }
      ],
      "source": [
        "print(df_full_non_null.info())"
      ],
      "id": "hx_1IrTNQhfg"
    },
    {
      "cell_type": "markdown",
      "source": [
        "## Duplicate Values\n",
        "\n",
        "Note: Tidak terdapat duplicate values pada data"
      ],
      "metadata": {
        "id": "W1oQQBMraH_2"
      },
      "id": "W1oQQBMraH_2"
    },
    {
      "cell_type": "code",
      "execution_count": null,
      "metadata": {
        "colab": {
          "base_uri": "https://localhost:8080/"
        },
        "id": "AkTAvfMLPdia",
        "outputId": "06298466-e42c-43a6-e137-332c54319606"
      },
      "outputs": [
        {
          "name": "stdout",
          "output_type": "stream",
          "text": [
            "Duplicated Values :\n",
            "0\n"
          ]
        }
      ],
      "source": [
        "print('Duplicated Values :')\n",
        "print(df_full_non_null.duplicated().sum())"
      ],
      "id": "AkTAvfMLPdia"
    },
    {
      "cell_type": "markdown",
      "source": [
        "# Checking Noise or Outlier"
      ],
      "metadata": {
        "id": "JgxVtG-waN8W"
      },
      "id": "JgxVtG-waN8W"
    },
    {
      "cell_type": "code",
      "execution_count": null,
      "metadata": {
        "id": "wt17oOWFQmN4"
      },
      "outputs": [],
      "source": [],
      "id": "wt17oOWFQmN4"
    },
    {
      "cell_type": "markdown",
      "source": [
        "# Apakah ada saran perbaikan data ke DE/DBA perusahaan agar RPPI menjadi data driven company yang unggul."
      ],
      "metadata": {
        "id": "ccD3_y8daXQ-"
      },
      "id": "ccD3_y8daXQ-"
    },
    {
      "cell_type": "code",
      "source": [
        "df_full_non_null['deskripsi']"
      ],
      "metadata": {
        "colab": {
          "base_uri": "https://localhost:8080/"
        },
        "id": "JxMlVkXsaeD_",
        "outputId": "1633028b-0e35-4d26-e9ae-77385830cb59"
      },
      "id": "JxMlVkXsaeD_",
      "execution_count": null,
      "outputs": [
        {
          "output_type": "execute_result",
          "data": {
            "text/plain": [
              "0       Dekat tol jati warna, dekat sutle busway, deka...\n",
              "1       Destinasi menarik di kawasan Babakan Madang; G...\n",
              "2       Destinasi menarik di kawasan Babakan Madang; G...\n",
              "3       Destinasi menarik di kawasan Babakan Madang; G...\n",
              "4       Destinasi menarik di kawasan Babakan Madang; G...\n",
              "                              ...                        \n",
              "3108    Lokasi sangat dekat dengan berbagai Akses,Ters...\n",
              "3109    Berlian Ciater, Hunian 2 Lantai Nyaman dan Asr...\n",
              "3110    1-7 km ke Stasiun Rawa Buntu, Rs Eka Hospital,...\n",
              "3111    Fasilitas Terdekat :Lokasi strategis, berada d...\n",
              "3112    Akses Mudah: 10 Menit Ke stasiun kereta poris ...\n",
              "Name: deskripsi, Length: 539, dtype: object"
            ]
          },
          "metadata": {},
          "execution_count": 33
        }
      ]
    },
    {
      "cell_type": "markdown",
      "source": [
        "Untuk kolom `deskripsi` dapat dilakukan ekstraksi informasi di mana dilihat jarak dari masing-masing rumah ke tempat-tempat penting seperti rumah sakit, supermarket, sekolah, transportasi umum terdekat) sehingga pada data analisis selanjutnya dapat dipertimbangkan jarak dari properti yang dijual ke tempat-tempat tersebut."
      ],
      "metadata": {
        "id": "dQcu039Uacuj"
      },
      "id": "dQcu039Uacuj"
    },
    {
      "cell_type": "code",
      "source": [
        "df_full_non_null[['LT','LB']]"
      ],
      "metadata": {
        "colab": {
          "base_uri": "https://localhost:8080/",
          "height": 424
        },
        "id": "IKGPvzvPbI4s",
        "outputId": "c63b127a-162e-4436-c37f-d555085cb9df"
      },
      "id": "IKGPvzvPbI4s",
      "execution_count": null,
      "outputs": [
        {
          "output_type": "execute_result",
          "data": {
            "text/plain": [
              "         LT     LB\n",
              "0      75.0   38.0\n",
              "1      60.0   40.0\n",
              "2      60.0   50.0\n",
              "3      60.0   70.0\n",
              "4      90.0   60.0\n",
              "...     ...    ...\n",
              "3108   60.0   55.0\n",
              "3109   66.0   70.0\n",
              "3110  202.0   85.0\n",
              "3111  108.0  130.0\n",
              "3112   91.0   91.0\n",
              "\n",
              "[539 rows x 2 columns]"
            ],
            "text/html": [
              "\n",
              "  <div id=\"df-e3f231ac-d36b-4afd-8248-0a98e9470697\">\n",
              "    <div class=\"colab-df-container\">\n",
              "      <div>\n",
              "<style scoped>\n",
              "    .dataframe tbody tr th:only-of-type {\n",
              "        vertical-align: middle;\n",
              "    }\n",
              "\n",
              "    .dataframe tbody tr th {\n",
              "        vertical-align: top;\n",
              "    }\n",
              "\n",
              "    .dataframe thead th {\n",
              "        text-align: right;\n",
              "    }\n",
              "</style>\n",
              "<table border=\"1\" class=\"dataframe\">\n",
              "  <thead>\n",
              "    <tr style=\"text-align: right;\">\n",
              "      <th></th>\n",
              "      <th>LT</th>\n",
              "      <th>LB</th>\n",
              "    </tr>\n",
              "  </thead>\n",
              "  <tbody>\n",
              "    <tr>\n",
              "      <th>0</th>\n",
              "      <td>75.0</td>\n",
              "      <td>38.0</td>\n",
              "    </tr>\n",
              "    <tr>\n",
              "      <th>1</th>\n",
              "      <td>60.0</td>\n",
              "      <td>40.0</td>\n",
              "    </tr>\n",
              "    <tr>\n",
              "      <th>2</th>\n",
              "      <td>60.0</td>\n",
              "      <td>50.0</td>\n",
              "    </tr>\n",
              "    <tr>\n",
              "      <th>3</th>\n",
              "      <td>60.0</td>\n",
              "      <td>70.0</td>\n",
              "    </tr>\n",
              "    <tr>\n",
              "      <th>4</th>\n",
              "      <td>90.0</td>\n",
              "      <td>60.0</td>\n",
              "    </tr>\n",
              "    <tr>\n",
              "      <th>...</th>\n",
              "      <td>...</td>\n",
              "      <td>...</td>\n",
              "    </tr>\n",
              "    <tr>\n",
              "      <th>3108</th>\n",
              "      <td>60.0</td>\n",
              "      <td>55.0</td>\n",
              "    </tr>\n",
              "    <tr>\n",
              "      <th>3109</th>\n",
              "      <td>66.0</td>\n",
              "      <td>70.0</td>\n",
              "    </tr>\n",
              "    <tr>\n",
              "      <th>3110</th>\n",
              "      <td>202.0</td>\n",
              "      <td>85.0</td>\n",
              "    </tr>\n",
              "    <tr>\n",
              "      <th>3111</th>\n",
              "      <td>108.0</td>\n",
              "      <td>130.0</td>\n",
              "    </tr>\n",
              "    <tr>\n",
              "      <th>3112</th>\n",
              "      <td>91.0</td>\n",
              "      <td>91.0</td>\n",
              "    </tr>\n",
              "  </tbody>\n",
              "</table>\n",
              "<p>539 rows × 2 columns</p>\n",
              "</div>\n",
              "      <button class=\"colab-df-convert\" onclick=\"convertToInteractive('df-e3f231ac-d36b-4afd-8248-0a98e9470697')\"\n",
              "              title=\"Convert this dataframe to an interactive table.\"\n",
              "              style=\"display:none;\">\n",
              "        \n",
              "  <svg xmlns=\"http://www.w3.org/2000/svg\" height=\"24px\"viewBox=\"0 0 24 24\"\n",
              "       width=\"24px\">\n",
              "    <path d=\"M0 0h24v24H0V0z\" fill=\"none\"/>\n",
              "    <path d=\"M18.56 5.44l.94 2.06.94-2.06 2.06-.94-2.06-.94-.94-2.06-.94 2.06-2.06.94zm-11 1L8.5 8.5l.94-2.06 2.06-.94-2.06-.94L8.5 2.5l-.94 2.06-2.06.94zm10 10l.94 2.06.94-2.06 2.06-.94-2.06-.94-.94-2.06-.94 2.06-2.06.94z\"/><path d=\"M17.41 7.96l-1.37-1.37c-.4-.4-.92-.59-1.43-.59-.52 0-1.04.2-1.43.59L10.3 9.45l-7.72 7.72c-.78.78-.78 2.05 0 2.83L4 21.41c.39.39.9.59 1.41.59.51 0 1.02-.2 1.41-.59l7.78-7.78 2.81-2.81c.8-.78.8-2.07 0-2.86zM5.41 20L4 18.59l7.72-7.72 1.47 1.35L5.41 20z\"/>\n",
              "  </svg>\n",
              "      </button>\n",
              "      \n",
              "  <style>\n",
              "    .colab-df-container {\n",
              "      display:flex;\n",
              "      flex-wrap:wrap;\n",
              "      gap: 12px;\n",
              "    }\n",
              "\n",
              "    .colab-df-convert {\n",
              "      background-color: #E8F0FE;\n",
              "      border: none;\n",
              "      border-radius: 50%;\n",
              "      cursor: pointer;\n",
              "      display: none;\n",
              "      fill: #1967D2;\n",
              "      height: 32px;\n",
              "      padding: 0 0 0 0;\n",
              "      width: 32px;\n",
              "    }\n",
              "\n",
              "    .colab-df-convert:hover {\n",
              "      background-color: #E2EBFA;\n",
              "      box-shadow: 0px 1px 2px rgba(60, 64, 67, 0.3), 0px 1px 3px 1px rgba(60, 64, 67, 0.15);\n",
              "      fill: #174EA6;\n",
              "    }\n",
              "\n",
              "    [theme=dark] .colab-df-convert {\n",
              "      background-color: #3B4455;\n",
              "      fill: #D2E3FC;\n",
              "    }\n",
              "\n",
              "    [theme=dark] .colab-df-convert:hover {\n",
              "      background-color: #434B5C;\n",
              "      box-shadow: 0px 1px 3px 1px rgba(0, 0, 0, 0.15);\n",
              "      filter: drop-shadow(0px 1px 2px rgba(0, 0, 0, 0.3));\n",
              "      fill: #FFFFFF;\n",
              "    }\n",
              "  </style>\n",
              "\n",
              "      <script>\n",
              "        const buttonEl =\n",
              "          document.querySelector('#df-e3f231ac-d36b-4afd-8248-0a98e9470697 button.colab-df-convert');\n",
              "        buttonEl.style.display =\n",
              "          google.colab.kernel.accessAllowed ? 'block' : 'none';\n",
              "\n",
              "        async function convertToInteractive(key) {\n",
              "          const element = document.querySelector('#df-e3f231ac-d36b-4afd-8248-0a98e9470697');\n",
              "          const dataTable =\n",
              "            await google.colab.kernel.invokeFunction('convertToInteractive',\n",
              "                                                     [key], {});\n",
              "          if (!dataTable) return;\n",
              "\n",
              "          const docLinkHtml = 'Like what you see? Visit the ' +\n",
              "            '<a target=\"_blank\" href=https://colab.research.google.com/notebooks/data_table.ipynb>data table notebook</a>'\n",
              "            + ' to learn more about interactive tables.';\n",
              "          element.innerHTML = '';\n",
              "          dataTable['output_type'] = 'display_data';\n",
              "          await google.colab.output.renderOutput(dataTable, element);\n",
              "          const docLink = document.createElement('div');\n",
              "          docLink.innerHTML = docLinkHtml;\n",
              "          element.appendChild(docLink);\n",
              "        }\n",
              "      </script>\n",
              "    </div>\n",
              "  </div>\n",
              "  "
            ]
          },
          "metadata": {},
          "execution_count": 34
        }
      ]
    },
    {
      "cell_type": "markdown",
      "source": [
        "Kemudian, DE juga dapat menambahkan luas sisa tanah di setiap properti untuk nantinya pembeli dapat mempertimbangkan dalam pembuatan tanah atau lainnya."
      ],
      "metadata": {
        "id": "_q_xu_4wa-ng"
      },
      "id": "_q_xu_4wa-ng"
    },
    {
      "cell_type": "markdown",
      "source": [
        "# Dari data yang ada, apakah ada kecenderungan rumah disuatu kota lebih mahal/murah dibandingkan kota lain?"
      ],
      "metadata": {
        "id": "Gr-h0OlLbbVc"
      },
      "id": "Gr-h0OlLbbVc"
    },
    {
      "cell_type": "markdown",
      "source": [
        "![messageImage_1663920902776.jpg](data:image/jpeg;base64,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)"
      ],
      "metadata": {
        "id": "YxK02G0obf69"
      },
      "id": "YxK02G0obf69"
    },
    {
      "cell_type": "markdown",
      "source": [
        "Karena terlihat terdapat kecenderungan perbedaan harga rumah disetiap kotanya, sehingga disarankan untuk RPPI supaya menginvestasikan rumah yang berada di kota bogor karena terlihat masih ada banyak rumah yang berharga murah tetapi memiliki potensi jual berharga tinggi."
      ],
      "metadata": {
        "id": "z5C5bUyDbkAr"
      },
      "id": "z5C5bUyDbkAr"
    },
    {
      "cell_type": "markdown",
      "source": [
        "# Dari data yang ada, apakah bisa dibuat rekomendasi sebaiknya RPPI membuat kantor cabang berikutnya di kota mana? Mengapa? (Asumsikan RPPI belum memiliki cabang di kota-kota yang disebutkan di data)."
      ],
      "metadata": {
        "id": "EpxPToZWbreJ"
      },
      "id": "EpxPToZWbreJ"
    },
    {
      "cell_type": "markdown",
      "source": [
        "![Screenshot 2022-09-23 151434.png](data:image/png;base64,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)"
      ],
      "metadata": {
        "id": "ednwi6xBbwMi"
      },
      "id": "ednwi6xBbwMi"
    },
    {
      "cell_type": "markdown",
      "source": [
        "Terlihat dari visualisasi boxplot dan countplot, bahwa kota bogor merupakan kota yang diminati dilihat dari banyaknya penjualan dan harga yang relatif terjangkau."
      ],
      "metadata": {
        "id": "K3h3BWiOcFnr"
      },
      "id": "K3h3BWiOcFnr"
    },
    {
      "cell_type": "markdown",
      "source": [
        "# Rumah dengan karakteristik seperti apa yang paling banyak dijual?"
      ],
      "metadata": {
        "id": "CUqK1I3Ab7t1"
      },
      "id": "CUqK1I3Ab7t1"
    }
  ],
  "metadata": {
    "colab": {
      "collapsed_sections": [],
      "provenance": [],
      "toc_visible": true,
      "include_colab_link": true
    },
    "kernelspec": {
      "display_name": "Python 3 (ipykernel)",
      "language": "python",
      "name": "python3"
    },
    "language_info": {
      "codemirror_mode": {
        "name": "ipython",
        "version": 3
      },
      "file_extension": ".py",
      "mimetype": "text/x-python",
      "name": "python",
      "nbconvert_exporter": "python",
      "pygments_lexer": "ipython3",
      "version": "3.7.13"
    }
  },
  "nbformat": 4,
  "nbformat_minor": 5
}